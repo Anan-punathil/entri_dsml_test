{
  "nbformat": 4,
  "nbformat_minor": 0,
  "metadata": {
    "colab": {
      "provenance": []
    },
    "kernelspec": {
      "name": "python3",
      "display_name": "Python 3"
    },
    "language_info": {
      "name": "python"
    }
  },
  "cells": [
    {
      "cell_type": "code",
      "execution_count": null,
      "metadata": {
        "colab": {
          "base_uri": "https://localhost:8080/"
        },
        "id": "Chmu18gcY9w1",
        "outputId": "41114895-0f8a-4ef9-cfaa-61add0117064"
      },
      "outputs": [
        {
          "output_type": "stream",
          "name": "stdout",
          "text": [
            "Name: ben ,Salary: 12000\n",
            "Name: jessa ,Salary: 9000\n"
          ]
        }
      ],
      "source": [
        "def show_employee(name,salary=9000):\n",
        "  print(\"Name:\",name,\",Salary:\",salary)\n",
        "show_employee(\"ben\",12000)\n",
        "show_employee(\"jessa\")"
      ]
    },
    {
      "cell_type": "markdown",
      "source": [
        "Exercise 2: Create an inner function to calculate the addition in the following way.\n",
        "\n",
        "1-Create an outer function that will accept two parameters, a and b.\n",
        "\n",
        "2-Create an inner function inside an outer function that will calculate the addition of a and b.\n",
        "\n",
        "\n",
        "3-At last, an outer function will add 5 into addition and return it.\n"
      ],
      "metadata": {
        "id": "j_p5k_8VfNhi"
      }
    },
    {
      "cell_type": "code",
      "source": [
        "def outer_addition(a,b):\n",
        "  def inner_addition(a,b):\n",
        "\n",
        "    return a+b\n",
        "  final_addition=a+b+5\n",
        "  return final_addition\n",
        "outer_addition(5,10)\n"
      ],
      "metadata": {
        "colab": {
          "base_uri": "https://localhost:8080/"
        },
        "id": "9rBIfxk8frOA",
        "outputId": "fcc5a239-865b-4f4b-94d2-d22784a24cf1"
      },
      "execution_count": null,
      "outputs": [
        {
          "output_type": "execute_result",
          "data": {
            "text/plain": [
              "20"
            ]
          },
          "metadata": {},
          "execution_count": 20
        }
      ]
    },
    {
      "cell_type": "markdown",
      "source": [
        "Exercise 3: Generate a Python list of all the even numbers between 4 to 30."
      ],
      "metadata": {
        "id": "Ng5AkPTLg-ae"
      }
    },
    {
      "cell_type": "code",
      "source": [
        "l=range(4,30)\n",
        "even_num=list(filter(lambda a:a%2==0,l))\n",
        "even_num"
      ],
      "metadata": {
        "colab": {
          "base_uri": "https://localhost:8080/"
        },
        "id": "0dy39HEziR4q",
        "outputId": "de670a24-f173-4e69-c28b-719bfd33a982"
      },
      "execution_count": null,
      "outputs": [
        {
          "output_type": "execute_result",
          "data": {
            "text/plain": [
              "[4, 6, 8, 10, 12, 14, 16, 18, 20, 22, 24, 26, 28]"
            ]
          },
          "metadata": {},
          "execution_count": 24
        }
      ]
    },
    {
      "cell_type": "markdown",
      "source": [
        "Exercise 4: Lambda Function to Check if value is in a List.\n",
        "\n",
        "Given a list, the task is to write a Python program to check if the value exists in the list or not using the lambda function.\n",
        "\n",
        "\n",
        "Input  : L = [1, 2, 3, 4, 5]\n",
        "          element = 4\n",
        "\n",
        "Output :  Element is Present in the list\n",
        "\n",
        "Input :  L = [1, 2, 3, 4, 5]\n",
        "          element = 8\n",
        "          \n",
        "Output :  Element is NOT Present in the list\n"
      ],
      "metadata": {
        "id": "T3_EWVFPi8xC"
      }
    },
    {
      "cell_type": "code",
      "source": [
        "def check_value(a):\n",
        "  l=[1,2,3,4,5]\n",
        "  if a in l:\n",
        "    print(\"element is present in the list\")\n",
        "  else:\n",
        "    print(\"element is not in the list\")\n",
        "f=lambda a:check_value(a)\n",
        "f(4)\n",
        "f(8)"
      ],
      "metadata": {
        "colab": {
          "base_uri": "https://localhost:8080/"
        },
        "id": "BATBoPlBjSa5",
        "outputId": "a0254f4e-afd0-429a-d581-fe303bfa7cd0"
      },
      "execution_count": null,
      "outputs": [
        {
          "output_type": "stream",
          "name": "stdout",
          "text": [
            "element is present in the list\n",
            "element is not in the list\n"
          ]
        }
      ]
    },
    {
      "cell_type": "markdown",
      "source": [
        "Exercise 5: Sort list of tuples with their sum.\n",
        "\n",
        "Sort the points based on their sum of elements in the tuples.\n",
        "\n",
        "points = [(1, 2), (5, 3), (0, 7), (3, 1)]\n"
      ],
      "metadata": {
        "id": "q8AtQL8vmUue"
      }
    },
    {
      "cell_type": "code",
      "source": [
        "l= [(1, 2), (5, 3), (0, 7), (3, 1)]\n",
        "print(l.sort(key=lambda a:a[0]+a[1]))\n",
        "l"
      ],
      "metadata": {
        "colab": {
          "base_uri": "https://localhost:8080/"
        },
        "id": "giav59R0mBGj",
        "outputId": "280c461f-f141-443f-c2d2-f0df7e84b4fb"
      },
      "execution_count": null,
      "outputs": [
        {
          "output_type": "stream",
          "name": "stdout",
          "text": [
            "None\n"
          ]
        },
        {
          "output_type": "execute_result",
          "data": {
            "text/plain": [
              "[(1, 2), (3, 1), (0, 7), (5, 3)]"
            ]
          },
          "metadata": {},
          "execution_count": 32
        }
      ]
    },
    {
      "cell_type": "markdown",
      "source": [
        "Exercise 6 :\n",
        "Write a python function, which will find all such numbers between 1000 and 3000 (both included) such that each digit of the number is an even number.\n",
        " Return the results as a list\n"
      ],
      "metadata": {
        "id": "k3_mI8dLpDlr"
      }
    },
    {
      "cell_type": "code",
      "source": [
        "def even_digt_number():\n",
        "  new_even_list=[]\n",
        "  for i in range(1000,3001):\n",
        "    l=[int(d)for d in str(i)]\n",
        "    if all(d%2==0 for d in l):\n",
        "      new_even_list.append(i)\n",
        "  return new_even_list\n",
        "result=even_digt_number()\n",
        "print(result)"
      ],
      "metadata": {
        "colab": {
          "base_uri": "https://localhost:8080/"
        },
        "id": "ya7-m9Im-4pZ",
        "outputId": "efc2f67f-0423-42bd-bc49-607dda0b2a6a"
      },
      "execution_count": null,
      "outputs": [
        {
          "output_type": "stream",
          "name": "stdout",
          "text": [
            "[2000, 2002, 2004, 2006, 2008, 2020, 2022, 2024, 2026, 2028, 2040, 2042, 2044, 2046, 2048, 2060, 2062, 2064, 2066, 2068, 2080, 2082, 2084, 2086, 2088, 2200, 2202, 2204, 2206, 2208, 2220, 2222, 2224, 2226, 2228, 2240, 2242, 2244, 2246, 2248, 2260, 2262, 2264, 2266, 2268, 2280, 2282, 2284, 2286, 2288, 2400, 2402, 2404, 2406, 2408, 2420, 2422, 2424, 2426, 2428, 2440, 2442, 2444, 2446, 2448, 2460, 2462, 2464, 2466, 2468, 2480, 2482, 2484, 2486, 2488, 2600, 2602, 2604, 2606, 2608, 2620, 2622, 2624, 2626, 2628, 2640, 2642, 2644, 2646, 2648, 2660, 2662, 2664, 2666, 2668, 2680, 2682, 2684, 2686, 2688, 2800, 2802, 2804, 2806, 2808, 2820, 2822, 2824, 2826, 2828, 2840, 2842, 2844, 2846, 2848, 2860, 2862, 2864, 2866, 2868, 2880, 2882, 2884, 2886, 2888]\n"
          ]
        }
      ]
    },
    {
      "cell_type": "markdown",
      "source": [
        "Exercise 7 :\n",
        "Write a python function that accepts a sentence and calculate and return the number of letters and digits.\n",
        "\n",
        "Suppose the following input is supplied to the program:\n",
        "\n",
        "hello world! 123\n",
        "\n",
        "Then, the output should be:\n",
        "\n",
        "LETTERS 10\n",
        "\n",
        "DIGITS 3\n"
      ],
      "metadata": {
        "id": "yj788PceB9I1"
      }
    },
    {
      "cell_type": "code",
      "source": [
        "def letter_digit_number(x):\n",
        "  letter_count=0\n",
        "  digit_count=0\n",
        "  for i in x:\n",
        "    if i.isalpha():\n",
        "      letter_count+=1\n",
        "    elif i.isdigit():\n",
        "      digit_count+=1\n",
        "  return letter_count,digit_count\n",
        "a=\"hello wolrd! 123\"\n",
        "letter_count,digit_count=letter_digit_number(a)\n",
        "print(f\"letter:{letter_count} digit:{digit_count}\")\n",
        "\n"
      ],
      "metadata": {
        "colab": {
          "base_uri": "https://localhost:8080/"
        },
        "id": "bRC-EuvDCOXk",
        "outputId": "1dcfe9ca-8ebb-4434-eb69-f05e53aaa056"
      },
      "execution_count": null,
      "outputs": [
        {
          "output_type": "stream",
          "name": "stdout",
          "text": [
            "letter:10 digit:3\n"
          ]
        }
      ]
    },
    {
      "cell_type": "markdown",
      "source": [
        "Exercise 8  MAP:\n",
        "\n",
        "Write a Python program to convert all the characters into uppercase and lowercase and eliminate duplicate letters from a given sequence. Use the map() function\n"
      ],
      "metadata": {
        "id": "O-5wzyeAHyOB"
      }
    },
    {
      "cell_type": "code",
      "source": [
        "def upper_lower_duplicate(sentence):\n",
        "  upper_case=list(map(lambda x:x.upper(),sentence))\n",
        "  lower_case=list(map(lambda x:x.lower(),sentence))\n",
        "  duplicate=list(set(sentence))\n",
        "  return upper_case,lower_case,duplicate\n",
        "sentence=\"Hello,Wolrd\"\n",
        "upper_case,lower_case,duplicate=upper_lower_duplicate(sentence)\n",
        "print(upper_case)\n",
        "print(lower_case)\n",
        "print(duplicate)"
      ],
      "metadata": {
        "colab": {
          "base_uri": "https://localhost:8080/"
        },
        "id": "VOsQpqJIH4AL",
        "outputId": "e5a23153-2f6a-4a0c-9a3c-ae69e46e1428"
      },
      "execution_count": null,
      "outputs": [
        {
          "output_type": "stream",
          "name": "stdout",
          "text": [
            "['H', 'E', 'L', 'L', 'O', ',', 'W', 'O', 'L', 'R', 'D']\n",
            "['h', 'e', 'l', 'l', 'o', ',', 'w', 'o', 'l', 'r', 'd']\n",
            "['H', 'e', 'r', 'o', 'd', ',', 'l', 'W']\n"
          ]
        }
      ]
    },
    {
      "cell_type": "markdown",
      "source": [
        "Exercise 9 MAP:\n",
        "\n",
        " Write a Python program to add two given lists and find the difference between them.\n",
        " Use the map() function\n"
      ],
      "metadata": {
        "id": "EhKxUHySLJ6K"
      }
    },
    {
      "cell_type": "code",
      "source": [
        "l1=[1,2,3,4]\n",
        "l2=[5,6,7,8]\n",
        "f=map(lambda a,b:a+b,l1,l2)\n",
        "s=map(lambda a,b:b-a,l1,l2)\n",
        "print(list(f))\n",
        "print(list(s))"
      ],
      "metadata": {
        "colab": {
          "base_uri": "https://localhost:8080/"
        },
        "id": "BeN-VBZTLQMK",
        "outputId": "6482c2c9-83c9-45ae-db4a-45c1deb498f2"
      },
      "execution_count": null,
      "outputs": [
        {
          "output_type": "stream",
          "name": "stdout",
          "text": [
            "[6, 8, 10, 12]\n",
            "[4, 4, 4, 4]\n"
          ]
        }
      ]
    },
    {
      "cell_type": "markdown",
      "source": [
        "Exercise 10 Filter:\n",
        "\n",
        "Write a Python program to filter the height and weight of students, which are stored in a dictionary using lambda.\n",
        "\n",
        "Original Dictionary:\n",
        "\n",
        "{'Cierra Vega': (6.2, 71), 'Alden Cantrell': (5.9, 65), 'Kierra Gentry': (6.0, 68), 'Pierre Cox': (5.8, 66)}\n",
        "\n",
        "Height> 6ft and Weight> 70kg:\n",
        "\n",
        "{'Cierra Vega': (6.2, 71)}\n"
      ],
      "metadata": {
        "id": "r6CMPOULMbXl"
      }
    },
    {
      "cell_type": "code",
      "source": [
        "students={'Cierra Vega': (6.2, 71), 'Alden Cantrell': (5.9, 65), 'Kierra Gentry': (6.0, 68), 'Pierre Cox': (5.8, 66)}\n",
        "students.items()\n",
        "f=dict(filter(lambda a:a[1][0]>6 and a[1][1]>70,students.items()))\n",
        "print(f)\n"
      ],
      "metadata": {
        "colab": {
          "base_uri": "https://localhost:8080/"
        },
        "id": "LfWazL5E09Ko",
        "outputId": "928097b0-1b63-46b9-a5db-47fe0c2fcd20"
      },
      "execution_count": null,
      "outputs": [
        {
          "output_type": "stream",
          "name": "stdout",
          "text": [
            "{'Cierra Vega': (6.2, 71)}\n"
          ]
        }
      ]
    },
    {
      "cell_type": "markdown",
      "source": [
        "Exercise 11 Filter:\n",
        "\n",
        "Write a Python program to remove all elements from a given list present in another list using lambda.\n",
        "\n",
        "Original lists:\n",
        "\n",
        "list1: [1, 2, 3, 4, 5, 6, 7, 8, 9, 10]\n",
        "\n",
        "list2: [2, 4, 6, 8]\n",
        "\n",
        "Remove all elements from 'list1' present in 'list2:\n",
        "\n",
        "[1, 3, 5, 7, 9, 10]\n"
      ],
      "metadata": {
        "id": "Lfa44ThM3CWW"
      }
    },
    {
      "cell_type": "code",
      "source": [
        "l1=[1,2,3,4,5,6,7,8,9,10]\n",
        "l2=[2,4,6,8]\n",
        "\n",
        "f=list(filter(lambda a:a not in l2,l1))\n",
        "print(f)"
      ],
      "metadata": {
        "colab": {
          "base_uri": "https://localhost:8080/"
        },
        "id": "GFt7-Ie33k29",
        "outputId": "bfe703a1-5e2d-48ab-8db5-ede1b271cb98"
      },
      "execution_count": null,
      "outputs": [
        {
          "output_type": "stream",
          "name": "stdout",
          "text": [
            "[1, 3, 5, 7, 9, 10]\n"
          ]
        }
      ]
    },
    {
      "cell_type": "markdown",
      "source": [
        "Exercise 12 Reduce:\n",
        "\n",
        "\n",
        "Write a Python program to calculate the product of a given list of numbers using lambda.\n",
        "\n",
        "list1: [1, 2, 3, 4, 5, 6, 7, 8, 9, 10]\n",
        "\n",
        "Product of the said list numbers:\n",
        "3628800\n"
      ],
      "metadata": {
        "id": "CkuVdmUC47wS"
      }
    },
    {
      "cell_type": "code",
      "source": [
        "import functools\n",
        "l1=[1,2,3,4,5,6,7,8,9,10]\n",
        "f=functools.reduce(lambda a,b:a*b,l1)\n",
        "print(\"The product of the numbers is \",f)\n"
      ],
      "metadata": {
        "colab": {
          "base_uri": "https://localhost:8080/"
        },
        "id": "S1oYC8fP5LmI",
        "outputId": "8ad4cf3c-7f0e-4970-a9e0-834a68827194"
      },
      "execution_count": null,
      "outputs": [
        {
          "output_type": "stream",
          "name": "stdout",
          "text": [
            "The product of the numbers is  3628800\n"
          ]
        }
      ]
    },
    {
      "cell_type": "markdown",
      "source": [
        "Exercise 13 Reduce:\n",
        "\n",
        "\n",
        " Write a Python program to multiply all the numbers in a given list using lambda.\n",
        "\n",
        "Original list:\n",
        "\n",
        "[4, 3, 2, 2, -1, 18]\n",
        "\n",
        "Mmultiply all the numbers of the said list: -864\n"
      ],
      "metadata": {
        "id": "ZRks-Xnn6wgs"
      }
    },
    {
      "cell_type": "code",
      "source": [
        "import functools\n",
        "l1=[4, 3, 2, 2, -1, 18]\n",
        "f=functools.reduce(lambda a,b:a*b,l1)\n",
        "print(f)"
      ],
      "metadata": {
        "colab": {
          "base_uri": "https://localhost:8080/"
        },
        "id": "O-Eq2J7j67Yr",
        "outputId": "78901e59-93b6-475e-856b-4080a2fa2d5e"
      },
      "execution_count": null,
      "outputs": [
        {
          "output_type": "stream",
          "name": "stdout",
          "text": [
            "-864\n"
          ]
        }
      ]
    },
    {
      "cell_type": "markdown",
      "source": [
        "Exercise 14 Reduce:\n",
        "\n",
        "\n",
        "Write a Python program to calculate the average value of the numbers in a given tuple of tuples using lambda.\n",
        "\n",
        "Original Tuple:\n",
        "\n",
        "((10, 10, 10), (30, 45, 56), (81, 80, 39), (1, 2, 3))\n",
        "\n",
        "Average value of the numbers of the said tuple of tuples:\n",
        "\n",
        "(30.5, 34.25, 27.0)\n"
      ],
      "metadata": {
        "id": "-hWqzgQT7fYF"
      }
    },
    {
      "cell_type": "code",
      "source": [
        "x=((10,10,10),(30,45,56),(81,80,39),(1,2,3))\n",
        "f=tuple(map(lambda a:sum(a)/len(a),zip(*x)))\n",
        "print(f)"
      ],
      "metadata": {
        "colab": {
          "base_uri": "https://localhost:8080/"
        },
        "id": "_lQM7scv7zjP",
        "outputId": "d7ca009c-cfe8-4fa4-f148-3cad723bd561"
      },
      "execution_count": null,
      "outputs": [
        {
          "output_type": "stream",
          "name": "stdout",
          "text": [
            "(30.5, 34.25, 27.0)\n"
          ]
        }
      ]
    },
    {
      "cell_type": "markdown",
      "source": [
        "Exercise 15:\n",
        "\n",
        "\n",
        "Write a Python program to sort a given mixed list of integers and strings using lambda. Numbers must be sorted before strings.\n",
        "\n",
        "Original list:\n",
        "\n",
        "[19, 'red', 12, 'green', 'blue', 10, 'white', 'green', 1]\n",
        "\n",
        "Sort the said mixed list of integers and strings:\n",
        "\n",
        "[1, 10, 12, 19, 'blue', 'green', 'green', 'red', 'white']\n",
        "\n"
      ],
      "metadata": {
        "id": "UvGIfgNJAk0V"
      }
    },
    {
      "cell_type": "code",
      "source": [
        "l=[19, 'red', 12, 'green', 'blue', 10, 'white', 'green', 1]\n",
        "def filter_list(l):\n",
        "\n",
        "  a=[]\n",
        "  b=[]\n",
        "  for element in l:\n",
        "    if isinstance(element,int):\n",
        "      a.append(element)\n",
        "    else:\n",
        "      b.append(element)\n",
        "  a.sort()\n",
        "  b.sort()\n",
        "  return a+b\n",
        "result=filter_list(l)\n",
        "print(result)"
      ],
      "metadata": {
        "colab": {
          "base_uri": "https://localhost:8080/"
        },
        "id": "0E_qb2SuEtCS",
        "outputId": "36e4e797-c9d1-407c-9001-eac89ee39f65"
      },
      "execution_count": null,
      "outputs": [
        {
          "output_type": "stream",
          "name": "stdout",
          "text": [
            "[1, 10, 12, 19, 'blue', 'green', 'green', 'red', 'white']\n"
          ]
        }
      ]
    },
    {
      "cell_type": "markdown",
      "source": [
        "Exercise 16:\n",
        "\n",
        "Write a Python program to count the occurrences of items in a given list using lambda.\n",
        "\n",
        "Original list:\n",
        "\n",
        "[3, 4, 5, 8, 0, 3, 8, 5, 0, 3, 1, 5, 2, 3, 4, 2]\n",
        "\n",
        "Count the occurrences of the items in the said list:\n",
        "\n",
        "{3: 4, 4: 2, 5: 3, 8: 2, 0: 2, 1: 1, 2: 2}\n"
      ],
      "metadata": {
        "id": "lC7oF128LIee"
      }
    },
    {
      "cell_type": "code",
      "source": [
        "l=[3, 4, 5, 8, 0, 3, 8, 5, 0, 3, 1, 5, 2, 3, 4, 2]\n",
        "result=dict(map((lambda x:(x,l.count(x))),l))\n",
        "print(result)"
      ],
      "metadata": {
        "colab": {
          "base_uri": "https://localhost:8080/"
        },
        "id": "Clf6wwXEXtTj",
        "outputId": "09410cdb-bf8d-4117-e530-65935943a1fc"
      },
      "execution_count": null,
      "outputs": [
        {
          "output_type": "stream",
          "name": "stdout",
          "text": [
            "{3: 4, 4: 2, 5: 3, 8: 2, 0: 2, 1: 1, 2: 2}\n"
          ]
        }
      ]
    },
    {
      "cell_type": "markdown",
      "source": [
        "Exercise 17:\n",
        "\n",
        "> Indented block\n",
        "\n",
        "\n",
        "\n",
        "\n",
        "Write a Python program to remove None values from a given list using the lambda function.\n",
        "\n",
        "Original list:\n",
        "\n",
        "[12, 0, None, 23, None, -55, 234, 89, None, 0, 6, -12]\n",
        "\n",
        "Remove None value from the said list:\n",
        "\n",
        "[12, 0, 23, -55, 234, 89, 0, 6, -12]\n"
      ],
      "metadata": {
        "id": "vHtqDNInY6Ud"
      }
    },
    {
      "cell_type": "code",
      "source": [
        "l=[12, 0, None, 23, None, -55, 234, 89, None, 0, 6, -12]\n",
        "f=list(filter((lambda x:x is not None ),l))\n",
        "print(f)"
      ],
      "metadata": {
        "colab": {
          "base_uri": "https://localhost:8080/"
        },
        "id": "oOGf6sc7ZOY9",
        "outputId": "63351984-7fab-40b4-d17a-7756ea9c63e5"
      },
      "execution_count": null,
      "outputs": [
        {
          "output_type": "stream",
          "name": "stdout",
          "text": [
            "[12, 0, 23, -55, 234, 89, 0, 6, -12]\n"
          ]
        }
      ]
    }
  ]
}