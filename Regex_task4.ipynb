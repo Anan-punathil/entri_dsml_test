{
  "nbformat": 4,
  "nbformat_minor": 0,
  "metadata": {
    "colab": {
      "provenance": []
    },
    "kernelspec": {
      "name": "python3",
      "display_name": "Python 3"
    },
    "language_info": {
      "name": "python"
    }
  },
  "cells": [
    {
      "cell_type": "markdown",
      "source": [
        "\n",
        "1.Write a Python program to check that a string contains only a certain set of characters (in this case a-z, A-Z and 0-9)"
      ],
      "metadata": {
        "id": "A7ZLgyOtcz21"
      }
    },
    {
      "cell_type": "code",
      "source": [
        "import re\n",
        "def test(check_str):\n",
        "  sent=  r'^[a-zA-Z0-9]+$'\n",
        "  if re.search(sent,check_str):\n",
        "    print(\"string matches the pattern\")\n",
        "  else:\n",
        "    print(\"string does not matches the pattern\")\n",
        "\n",
        "test(\"ananp5666\")\n",
        "test(\"ananp5666@gamil.com\")"
      ],
      "metadata": {
        "colab": {
          "base_uri": "https://localhost:8080/"
        },
        "id": "G-Wj562RdBTc",
        "outputId": "0531d8c4-b885-470d-9085-69ccd8b8eb5a"
      },
      "execution_count": 1,
      "outputs": [
        {
          "output_type": "stream",
          "name": "stdout",
          "text": [
            "string matches the pattern\n",
            "string does not matches the pattern\n"
          ]
        }
      ]
    },
    {
      "cell_type": "markdown",
      "source": [
        "2.Write a Python program that matches a string that has an a followed by zero or more b's"
      ],
      "metadata": {
        "id": "zqFL_7OidHZx"
      }
    },
    {
      "cell_type": "code",
      "source": [
        "import re\n",
        "\n",
        "def test(letter):\n",
        "    patt= r'ab*'\n",
        "    if re.fullmatch(patt,letter):\n",
        "        return True\n",
        "    else:\n",
        "        return False\n",
        "\n",
        "test_str= ['ab','abb','abbb','ac','abc']\n",
        "for string in test_str:\n",
        "    print(f\"String: {string}, Matched: {test(string)}\")\n"
      ],
      "metadata": {
        "colab": {
          "base_uri": "https://localhost:8080/"
        },
        "id": "CzpYcyGRdIDu",
        "outputId": "602504e5-01b6-4b39-d18c-e7241e5280a5"
      },
      "execution_count": 5,
      "outputs": [
        {
          "output_type": "stream",
          "name": "stdout",
          "text": [
            "String: ab, Matched: True\n",
            "String: abb, Matched: True\n",
            "String: abbb, Matched: True\n",
            "String: ac, Matched: False\n",
            "String: abc, Matched: False\n"
          ]
        }
      ]
    },
    {
      "cell_type": "markdown",
      "source": [
        "3.Replace only the first occurrence of 5 with five for the given string"
      ],
      "metadata": {
        "id": "7K5Gqa_tdMRC"
      }
    },
    {
      "cell_type": "code",
      "source": [
        "sent= 'I got 5 cars from 5 boxes'\n",
        "df= sent.replace('5','five', 1)\n",
        "print(df)"
      ],
      "metadata": {
        "colab": {
          "base_uri": "https://localhost:8080/"
        },
        "id": "ovRBHpJ1dvKs",
        "outputId": "fcbb941c-16ba-45c5-b9c6-3bddf20242c2"
      },
      "execution_count": 6,
      "outputs": [
        {
          "output_type": "stream",
          "name": "stdout",
          "text": [
            "I got five cars from 5 boxes\n"
          ]
        }
      ]
    },
    {
      "cell_type": "markdown",
      "source": [
        "4. Write a Python program that matches a string that has an a followed by three 'b'"
      ],
      "metadata": {
        "id": "43gmnzgCdMNL"
      }
    },
    {
      "cell_type": "code",
      "source": [
        "import re\n",
        "\n",
        "def test(text):\n",
        "    patt= r'ab{3}'\n",
        "    if re.fullmatch(patt, text):\n",
        "        return True\n",
        "    else:\n",
        "        return False\n",
        "\n",
        "test_str= ['abbdfgh', 'abbb', 'abbbb', 'ayu', 'abcxcvb', 'ab', 'abbbbcd']\n",
        "for string in test_str:\n",
        "    print(f\"String: {string}, Matched: {test(string)}\")\n",
        "\n"
      ],
      "metadata": {
        "colab": {
          "base_uri": "https://localhost:8080/"
        },
        "id": "zdPXFWLtd5eG",
        "outputId": "ec3eface-af31-46eb-b58f-47a1242337b7"
      },
      "execution_count": 15,
      "outputs": [
        {
          "output_type": "stream",
          "name": "stdout",
          "text": [
            "String: abbdfgh, Matched: False\n",
            "String: abbb, Matched: True\n",
            "String: abbbb, Matched: False\n",
            "String: ayu, Matched: False\n",
            "String: abcxcvb, Matched: False\n",
            "String: ab, Matched: False\n",
            "String: abbbbcd, Matched: False\n"
          ]
        }
      ]
    },
    {
      "cell_type": "markdown",
      "source": [
        "5.Write a Python program that matches a string that has an 'a' followed by anything ending in 'b'."
      ],
      "metadata": {
        "id": "cVq_L5pOdMI8"
      }
    },
    {
      "cell_type": "code",
      "source": [
        "\n",
        "import re\n",
        "\n",
        "def tst(txt):\n",
        "    patt= r'a.*b$'\n",
        "    if re.fullmatch(patt, txt):\n",
        "        return True\n",
        "    else:\n",
        "        return False\n",
        "\n",
        "test_str= ['grab', 'crab', 'a156234b', 'knob', 'absdfghx', 'cab', 'a', 'huimport b', 'axb']\n",
        "for string in test_str:\n",
        "    print(f\"String: {string}, Matched: {tst(string)}\")\n"
      ],
      "metadata": {
        "colab": {
          "base_uri": "https://localhost:8080/"
        },
        "id": "U-pDIaxOd-Ch",
        "outputId": "af5c3213-fa62-40c3-9199-88c5c1695c55"
      },
      "execution_count": 18,
      "outputs": [
        {
          "output_type": "stream",
          "name": "stdout",
          "text": [
            "String: grab, Matched: False\n",
            "String: crab, Matched: False\n",
            "String: a156234b, Matched: True\n",
            "String: knob, Matched: False\n",
            "String: absdfghx, Matched: False\n",
            "String: cab, Matched: False\n",
            "String: a, Matched: False\n",
            "String: hub, Matched: False\n",
            "String: axb, Matched: True\n"
          ]
        }
      ]
    },
    {
      "cell_type": "markdown",
      "source": [
        "6.Write a Python program to search for numbers (0-9) of length between 1 and 3 in a given string"
      ],
      "metadata": {
        "id": "7xLgVqqGdMEA"
      }
    },
    {
      "cell_type": "code",
      "source": [
        "import re\n",
        "def find(dig):\n",
        "  patt=r'\\b\\d{1,3}\\b'\n",
        "  return re.findall(patt,dig)\n",
        "\n",
        "tst_str=\"1,12,2456783,345,456,6789,98677,654,3567821\"\n",
        "result=find(tst_str)\n",
        "print(\"numbers found:\",result)"
      ],
      "metadata": {
        "colab": {
          "base_uri": "https://localhost:8080/"
        },
        "id": "4-vyYTNBeCXg",
        "outputId": "b4f6aa20-e19d-454e-c800-f9d56c6ea2a4"
      },
      "execution_count": 24,
      "outputs": [
        {
          "output_type": "stream",
          "name": "stdout",
          "text": [
            "numbers found: ['1', '12', '345', '456', '654']\n"
          ]
        }
      ]
    },
    {
      "cell_type": "markdown",
      "source": [
        "7.Write a Python program to search for literal strings within a string. Sample text : 'The quick brown fox jumps over the lazy dog.' Searched words : 'fox', 'dog', 'horse"
      ],
      "metadata": {
        "id": "k6UCdDUMdL-v"
      }
    },
    {
      "cell_type": "code",
      "source": [
        "def find(text, words):\n",
        "    found = []\n",
        "    for word in words:\n",
        "        if text.find(word) != -1:\n",
        "            found.append(word)\n",
        "    return found\n",
        "\n",
        "sample_text = 'The quick brown fox jumps over the lazy dog.'\n",
        "search_words = ['fox', 'dog', 'horse']\n",
        "\n",
        "result =find(sample_text, search_words)\n",
        "print(\"Found words:\", result)\n",
        "\n"
      ],
      "metadata": {
        "colab": {
          "base_uri": "https://localhost:8080/"
        },
        "id": "KlsU_4uVeHLS",
        "outputId": "e32cbfb7-17d9-4d49-ee74-d841110fe58e"
      },
      "execution_count": 25,
      "outputs": [
        {
          "output_type": "stream",
          "name": "stdout",
          "text": [
            "Found words: ['fox', 'dog']\n"
          ]
        }
      ]
    },
    {
      "cell_type": "markdown",
      "source": [
        "8. Write a Python program to search for a literal string in a string and also find the location within the original string where the pattern occurs.\n",
        "\n",
        " Sample text : 'The quick brown fox jumps over the lazy dog.'\n",
        "\n",
        " Searched words : 'fox"
      ],
      "metadata": {
        "id": "7pcWsU_cdL40"
      }
    },
    {
      "cell_type": "code",
      "source": [
        "import re\n",
        "\n",
        "def search_location(text, search_word):\n",
        "    match = re.search(re.escape(search_word), text)\n",
        "    if match:\n",
        "        print(f\"'{search_word}' found in the text at position {match.start()}-{match.end()}.\")\n",
        "    else:\n",
        "        print(f\"'{search_word}' not found in the text.\")\n",
        "\n",
        "sample_text = 'The quick brown fox jumps over the lazy dog.'\n",
        "search_word = 'fox'\n",
        "\n",
        "search_location(sample_text,search_word)"
      ],
      "metadata": {
        "colab": {
          "base_uri": "https://localhost:8080/"
        },
        "id": "DI2yfzQjeLEA",
        "outputId": "23585eab-f6cb-4c3b-fee5-7125a127bbfc"
      },
      "execution_count": 2,
      "outputs": [
        {
          "output_type": "stream",
          "name": "stdout",
          "text": [
            "'fox' found in the text at position 16-19.\n"
          ]
        }
      ]
    },
    {
      "cell_type": "markdown",
      "source": [
        "9.Write a Python program to extract year, month and date from an URL\n",
        "\n",
        "URL= \"https://www.washingtonpost.com/news/football-insider/wp/2016/09/02/odell-beckhams-fame-rests-on-one-stupid-little-ball-josh-norman-tells-author/\""
      ],
      "metadata": {
        "id": "p1Sfxnc6dLzR"
      }
    },
    {
      "cell_type": "code",
      "source": [
        "import re\n",
        "\n",
        "LINK=\"https://www.washingtonpost.com/news/football-insider/wp/2016/09/02/odell-beckhams-fame-rests-on-one-stupid-little-ball-josh-norman-tells-author/\"\n",
        "def find_date(LINK):\n",
        "    patt=r'(\\d{4})/(\\d{2})/(\\d{2})'\n",
        "    match=re.search(patt,LINK)\n",
        "\n",
        "    if match:\n",
        "        year,month,day=map(int,match.groups())\n",
        "        print(f\"year:{year},month:{month},day:{day}\")\n",
        "    else:\n",
        "        print(\"no date found in URL\")\n",
        "\n",
        "find_date(LINK)\n",
        "\n"
      ],
      "metadata": {
        "colab": {
          "base_uri": "https://localhost:8080/"
        },
        "id": "O65vtEpDeO-f",
        "outputId": "e2cfe8b3-4c62-4af7-97d1-1dfb03269e3a"
      },
      "execution_count": 36,
      "outputs": [
        {
          "output_type": "stream",
          "name": "stdout",
          "text": [
            "year:2016,month:9,day:2\n"
          ]
        }
      ]
    },
    {
      "cell_type": "markdown",
      "source": [
        "10.Write a Python program to find URLs in a string."
      ],
      "metadata": {
        "id": "n9xkqgwwdLt1"
      }
    },
    {
      "cell_type": "code",
      "source": [
        "import re\n",
        "LINK= '<p>Contents :</p><a href=\"https://w3resource.com\">Python Examples</a><a href=\"http://github.com\">Even More Examples</a>'\n",
        "\n",
        "def find(LINK):\n",
        "    pattern = r'https?://\\S+'\n",
        "    URL = re.findall(pattern,LINK)\n",
        "\n",
        "    if URL:\n",
        "        for i in URL :\n",
        "            print(i)\n",
        "    else:\n",
        "        print(\"No URL found in the text.\")\n",
        "\n",
        "find(LINK)"
      ],
      "metadata": {
        "colab": {
          "base_uri": "https://localhost:8080/"
        },
        "id": "akL9QJi_eUFw",
        "outputId": "610b0642-5627-4ccd-9dac-1b0500759892"
      },
      "execution_count": 34,
      "outputs": [
        {
          "output_type": "stream",
          "name": "stdout",
          "text": [
            "https://w3resource.com\">Python\n",
            "http://github.com\">Even\n"
          ]
        }
      ]
    },
    {
      "cell_type": "markdown",
      "source": [
        "11.Write a Python program to remove the parenthesis area in a string.\n",
        "Sample data : [\"example (.com)\", \"w3resource\", \"github (.com)\", \"stackoverflow (.com)\"] Expected Output: example w3resource github stackoverflow."
      ],
      "metadata": {
        "id": "JhrInIjVdLnW"
      }
    },
    {
      "cell_type": "code",
      "source": [
        "import re\n",
        "patt=[\"example(.com)\", \"w3resource\", \"github(.com)\", \"stackoverflow(.com)\"]\n",
        "for web in patt:\n",
        "  result=re.sub(r'\\(\\.\\w+\\)','',web)\n",
        "  print(result)"
      ],
      "metadata": {
        "colab": {
          "base_uri": "https://localhost:8080/"
        },
        "id": "7DpSn6JbeYGQ",
        "outputId": "53dd0367-8fa2-452e-f2f4-6ab9b40c47da"
      },
      "execution_count": 37,
      "outputs": [
        {
          "output_type": "stream",
          "name": "stdout",
          "text": [
            "example\n",
            "w3resource\n",
            "github\n",
            "stackoverflow\n"
          ]
        }
      ]
    },
    {
      "cell_type": "markdown",
      "source": [
        "12.Write a Python program to concatenate the consecutive numbers in a given string. Original string: Enter at 1 20 Kearny Street. The security desk can direct you to floor 1 6. Please have your identification ready.\n",
        "\n",
        "After concatenating the consecutive numbers in the said string: Enter at 120 Kearny Street. The security desk can direct you to floor 16. Please have your identification ready"
      ],
      "metadata": {
        "id": "ZJkMXNlXdLhT"
      }
    },
    {
      "cell_type": "code",
      "source": [
        "import re\n",
        "\n",
        "string=\"Enter at 1 20 Kearny Street. The security desk can direct you to floor 1 6. Please have your identification ready.\"\n",
        "patt= re.compile(r'(?<=\\d)( )(?=\\d)')\n",
        "result= patt.sub('',string)\n",
        "\n",
        "print(result)"
      ],
      "metadata": {
        "colab": {
          "base_uri": "https://localhost:8080/"
        },
        "id": "Un39oGPVedXJ",
        "outputId": "451829d6-eee1-47c9-fe01-bdcc4afd853a"
      },
      "execution_count": 38,
      "outputs": [
        {
          "output_type": "stream",
          "name": "stdout",
          "text": [
            "Enter at 120 Kearny Street. The security desk can direct you to floor 16. Please have your identification ready.\n"
          ]
        }
      ]
    },
    {
      "cell_type": "markdown",
      "source": [
        "\n",
        "\n",
        "---\n",
        "\n"
      ],
      "metadata": {
        "id": "yZHvTRN8dJTA"
      }
    }
  ]
}