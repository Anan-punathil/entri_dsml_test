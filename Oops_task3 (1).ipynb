{
  "nbformat": 4,
  "nbformat_minor": 0,
  "metadata": {
    "colab": {
      "provenance": []
    },
    "kernelspec": {
      "name": "python3",
      "display_name": "Python 3"
    },
    "language_info": {
      "name": "python"
    }
  },
  "cells": [
    {
      "cell_type": "markdown",
      "source": [
        "Write a Python program to create a class representing a Circle. Include methods to calculate its area and perimeter"
      ],
      "metadata": {
        "id": "L5RVYhowNF-4"
      }
    },
    {
      "cell_type": "code",
      "source": [
        "import math\n",
        "class Circle:\n",
        "  pi=math.pi\n",
        "  r=0.0\n",
        "\n",
        "  def perimeter(self):\n",
        "    print(\"perimeter of circle:\",2*self.r*self.pi)\n",
        "  def area(self):\n",
        "    print(\"area of circle:\",self.pi*self.r**2)\n",
        "\n",
        "c1=Circle()\n",
        "c1.r=10\n",
        "c1.perimeter()\n",
        "c1.area()"
      ],
      "metadata": {
        "colab": {
          "base_uri": "https://localhost:8080/"
        },
        "id": "fklvfWgJNGh_",
        "outputId": "9760911a-4ff1-4e40-b067-d9d6db41bf22"
      },
      "execution_count": 15,
      "outputs": [
        {
          "output_type": "stream",
          "name": "stdout",
          "text": [
            "perimeter of circle: 62.83185307179586\n",
            "area of circle: 314.1592653589793\n"
          ]
        }
      ]
    },
    {
      "cell_type": "markdown",
      "source": [
        "Write a Python program to create a calculator class. Include methods for basic arithmetic operations"
      ],
      "metadata": {
        "id": "rj0ilyRzNVPI"
      }
    },
    {
      "cell_type": "code",
      "source": [
        "class Calculator:\n",
        "  def add(self,n1,n2):\n",
        "    return n1+n2\n",
        "\n",
        "  def sub(self,n1,n2):\n",
        "    return n1-n2\n",
        "\n",
        "  def multiple(self,n1,n2):\n",
        "    return n1*n2\n",
        "\n",
        "  def division(self,n1,n2):\n",
        "    if n2 !=0:\n",
        "      return n1/n2\n",
        "    else:\n",
        "      return \"Cannot divided by zero\"\n",
        "\n",
        "n1= float(input(\"Enter the first number: \"))\n",
        "n2= float(input(\"Enter the second number: \"))\n",
        "\n",
        "calculator=Calculator()\n",
        "\n",
        "print(calculator.add(n1,n2))\n",
        "print(calculator.sub(n1,n2))\n",
        "print(calculator.multiple(n1,n2))\n",
        "print(calculator.division(n1,n2))"
      ],
      "metadata": {
        "colab": {
          "base_uri": "https://localhost:8080/"
        },
        "id": "l0G9AhMeNVps",
        "outputId": "3a8b0d1a-0064-4f34-db91-67d3f16f3b83"
      },
      "execution_count": 9,
      "outputs": [
        {
          "output_type": "stream",
          "name": "stdout",
          "text": [
            "Enter the first number: 100\n",
            "Enter the second number: 5\n",
            "105.0\n",
            "95.0\n",
            "500.0\n",
            "20.0\n"
          ]
        }
      ]
    },
    {
      "cell_type": "markdown",
      "source": [
        "Write a Python program to create a class that represents a shape. Include methods to calculate its area and perimeter. Implement subclasses for different shapes like circle, triangle, and square"
      ],
      "metadata": {
        "id": "sMTkSDWSNWAm"
      }
    },
    {
      "cell_type": "code",
      "source": [
        "import math\n",
        "class Shape:\n",
        "  def area(self):\n",
        "    pass\n",
        "  def perimeter(self):\n",
        "    pass\n",
        "\n",
        "class Circle(Shape):\n",
        "  def __init__(self,r):\n",
        "    self.r=r\n",
        "  def area(self):\n",
        "    print(\"area of the circle:\",math.pi*self.r**2)\n",
        "  def perimeter(self):\n",
        "    print(\"perimeter of the circle:\",2*math.pi*self.r)\n",
        "c1=Circle(r=20)\n",
        "c1.area()\n",
        "c1.perimeter()\n",
        "\n",
        "class Triangle(Shape):\n",
        "  def __init__(self,side1,side2,side3):\n",
        "    self.side1=side1\n",
        "    self.side2=side2\n",
        "    self.side3=side3\n",
        "  def area(self):\n",
        "    s= (self.side1 + self.side2 + self.side3)/2\n",
        "    print(\"area of the triangle:\",math.sqrt(s*(s-self.side1) * (s-self.side2) * (s-self.side3)))\n",
        "  def perimeter(self):\n",
        "    print(\"perimeter of the triangle:\",self.side1 + self.side2 + self.side3)\n",
        "t1=Triangle(side1=10,side2=8,side3=6)\n",
        "t1.area()\n",
        "t1.perimeter()\n",
        "\n",
        "class Square(Shape):\n",
        "  def __init__(self,sides):\n",
        "    self.si=sides\n",
        "  def area(self):\n",
        "    print(\"area of the square:\",self.si**2)\n",
        "  def perimeter(self):\n",
        "    print(\"perimeter of the square:\",4*self.si)\n",
        "s1=Square(sides=16)\n",
        "s1.area()\n",
        "s1.perimeter()"
      ],
      "metadata": {
        "colab": {
          "base_uri": "https://localhost:8080/"
        },
        "id": "O8BwxPmsNWTy",
        "outputId": "947c35b8-9d72-4427-ffb1-06fbecc4c91f"
      },
      "execution_count": 5,
      "outputs": [
        {
          "output_type": "stream",
          "name": "stdout",
          "text": [
            "area of the circle: 1256.6370614359173\n",
            "perimeter of the circle: 125.66370614359172\n",
            "area of the triangle: 24.0\n",
            "perimeter of the triangle: 24\n",
            "area of the square: 256\n",
            "perimeter of the square: 64\n"
          ]
        }
      ]
    }
  ]
}